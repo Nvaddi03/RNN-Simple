{
 "cells": [
  {
   "cell_type": "code",
   "execution_count": 1,
   "metadata": {},
   "outputs": [
    {
     "name": "stderr",
     "output_type": "stream",
     "text": [
      "2024-08-21 11:09:57.858601: I tensorflow/core/platform/cpu_feature_guard.cc:210] This TensorFlow binary is optimized to use available CPU instructions in performance-critical operations.\n",
      "To enable the following instructions: AVX2 FMA, in other operations, rebuild TensorFlow with the appropriate compiler flags.\n"
     ]
    }
   ],
   "source": [
    "from tensorflow.keras.preprocessing.text import one_hot"
   ]
  },
  {
   "cell_type": "code",
   "execution_count": 2,
   "metadata": {},
   "outputs": [],
   "source": [
    "corpus = ['the glass of milk',\n",
    "     'the glass of juice',\n",
    "     'the cup of tea',\n",
    "    'I am a good boy',\n",
    "     'I am a good developer',\n",
    "     'understand the meaning of words',\n",
    "     'your videos are good',]"
   ]
  },
  {
   "cell_type": "code",
   "execution_count": 3,
   "metadata": {},
   "outputs": [
    {
     "data": {
      "text/plain": [
       "['the glass of milk',\n",
       " 'the glass of juice',\n",
       " 'the cup of tea',\n",
       " 'I am a good boy',\n",
       " 'I am a good developer',\n",
       " 'understand the meaning of words',\n",
       " 'your videos are good']"
      ]
     },
     "execution_count": 3,
     "metadata": {},
     "output_type": "execute_result"
    }
   ],
   "source": [
    "corpus"
   ]
  },
  {
   "cell_type": "code",
   "execution_count": 4,
   "metadata": {},
   "outputs": [
    {
     "data": {
      "text/plain": [
       "[[2849, 1996, 7542, 6782],\n",
       " [2849, 1996, 7542, 1412],\n",
       " [2849, 9663, 7542, 4913],\n",
       " [5500, 4434, 3081, 9398, 3402],\n",
       " [5500, 4434, 3081, 9398, 6378],\n",
       " [5323, 2849, 7399, 7542, 8417],\n",
       " [5019, 1977, 2022, 9398]]"
      ]
     },
     "execution_count": 4,
     "metadata": {},
     "output_type": "execute_result"
    }
   ],
   "source": [
    "# define vocabulary size\n",
    "voc_size = 10000\n",
    "\n",
    "#one hot represenation for every word\n",
    "one_hot_repsen = [one_hot(words,voc_size) for words in corpus]\n",
    "one_hot_repsen\n"
   ]
  },
  {
   "cell_type": "code",
   "execution_count": 5,
   "metadata": {},
   "outputs": [],
   "source": [
    "# word embedding represetation\n",
    "from tensorflow.keras.layers import Embedding\n",
    "#from tensorflow.keras.processing.sequence import pad_sequences\n",
    "from tensorflow.keras.utils import pad_sequences\n",
    "from tensorflow.keras.models import Sequential\n",
    "import numpy as np"
   ]
  },
  {
   "cell_type": "code",
   "execution_count": 6,
   "metadata": {},
   "outputs": [
    {
     "data": {
      "text/plain": [
       "array([[   0,    0,    0,    0, 2849, 1996, 7542, 6782],\n",
       "       [   0,    0,    0,    0, 2849, 1996, 7542, 1412],\n",
       "       [   0,    0,    0,    0, 2849, 9663, 7542, 4913],\n",
       "       [   0,    0,    0, 5500, 4434, 3081, 9398, 3402],\n",
       "       [   0,    0,    0, 5500, 4434, 3081, 9398, 6378],\n",
       "       [   0,    0,    0, 5323, 2849, 7399, 7542, 8417],\n",
       "       [   0,    0,    0,    0, 5019, 1977, 2022, 9398]], dtype=int32)"
      ]
     },
     "execution_count": 6,
     "metadata": {},
     "output_type": "execute_result"
    }
   ],
   "source": [
    "sent_length = 8\n",
    "embedded_docs = pad_sequences(one_hot_repsen,padding='pre', maxlen=sent_length)\n",
    "embedded_docs"
   ]
  },
  {
   "cell_type": "code",
   "execution_count": 9,
   "metadata": {},
   "outputs": [
    {
     "name": "stderr",
     "output_type": "stream",
     "text": [
      "/Users/narasimharaovaddi/anaconda3/lib/python3.11/site-packages/keras/src/layers/core/embedding.py:81: UserWarning: Do not pass an `input_shape`/`input_dim` argument to a layer. When using Sequential models, prefer using an `Input(shape)` object as the first layer in the model instead.\n",
      "  super().__init__(**kwargs)\n"
     ]
    }
   ],
   "source": [
    "dim = 10 # max is 300 dimenstions\n",
    "model=Sequential()\n",
    "model.add(Embedding(voc_size,dim,input_shape=(sent_length,)))\n",
    "model.compile('adam','mse')\n"
   ]
  },
  {
   "cell_type": "code",
   "execution_count": 10,
   "metadata": {},
   "outputs": [
    {
     "data": {
      "text/html": [
       "<pre style=\"white-space:pre;overflow-x:auto;line-height:normal;font-family:Menlo,'DejaVu Sans Mono',consolas,'Courier New',monospace\"><span style=\"font-weight: bold\">Model: \"sequential_1\"</span>\n",
       "</pre>\n"
      ],
      "text/plain": [
       "\u001b[1mModel: \"sequential_1\"\u001b[0m\n"
      ]
     },
     "metadata": {},
     "output_type": "display_data"
    },
    {
     "data": {
      "text/html": [
       "<pre style=\"white-space:pre;overflow-x:auto;line-height:normal;font-family:Menlo,'DejaVu Sans Mono',consolas,'Courier New',monospace\">┏━━━━━━━━━━━━━━━━━━━━━━━━━━━━━━━━━┳━━━━━━━━━━━━━━━━━━━━━━━━┳━━━━━━━━━━━━━━━┓\n",
       "┃<span style=\"font-weight: bold\"> Layer (type)                    </span>┃<span style=\"font-weight: bold\"> Output Shape           </span>┃<span style=\"font-weight: bold\">       Param # </span>┃\n",
       "┡━━━━━━━━━━━━━━━━━━━━━━━━━━━━━━━━━╇━━━━━━━━━━━━━━━━━━━━━━━━╇━━━━━━━━━━━━━━━┩\n",
       "│ embedding_1 (<span style=\"color: #0087ff; text-decoration-color: #0087ff\">Embedding</span>)         │ (<span style=\"color: #00d7ff; text-decoration-color: #00d7ff\">None</span>, <span style=\"color: #00af00; text-decoration-color: #00af00\">8</span>, <span style=\"color: #00af00; text-decoration-color: #00af00\">10</span>)          │       <span style=\"color: #00af00; text-decoration-color: #00af00\">100,000</span> │\n",
       "└─────────────────────────────────┴────────────────────────┴───────────────┘\n",
       "</pre>\n"
      ],
      "text/plain": [
       "┏━━━━━━━━━━━━━━━━━━━━━━━━━━━━━━━━━┳━━━━━━━━━━━━━━━━━━━━━━━━┳━━━━━━━━━━━━━━━┓\n",
       "┃\u001b[1m \u001b[0m\u001b[1mLayer (type)                   \u001b[0m\u001b[1m \u001b[0m┃\u001b[1m \u001b[0m\u001b[1mOutput Shape          \u001b[0m\u001b[1m \u001b[0m┃\u001b[1m \u001b[0m\u001b[1m      Param #\u001b[0m\u001b[1m \u001b[0m┃\n",
       "┡━━━━━━━━━━━━━━━━━━━━━━━━━━━━━━━━━╇━━━━━━━━━━━━━━━━━━━━━━━━╇━━━━━━━━━━━━━━━┩\n",
       "│ embedding_1 (\u001b[38;5;33mEmbedding\u001b[0m)         │ (\u001b[38;5;45mNone\u001b[0m, \u001b[38;5;34m8\u001b[0m, \u001b[38;5;34m10\u001b[0m)          │       \u001b[38;5;34m100,000\u001b[0m │\n",
       "└─────────────────────────────────┴────────────────────────┴───────────────┘\n"
      ]
     },
     "metadata": {},
     "output_type": "display_data"
    },
    {
     "data": {
      "text/html": [
       "<pre style=\"white-space:pre;overflow-x:auto;line-height:normal;font-family:Menlo,'DejaVu Sans Mono',consolas,'Courier New',monospace\"><span style=\"font-weight: bold\"> Total params: </span><span style=\"color: #00af00; text-decoration-color: #00af00\">100,000</span> (390.62 KB)\n",
       "</pre>\n"
      ],
      "text/plain": [
       "\u001b[1m Total params: \u001b[0m\u001b[38;5;34m100,000\u001b[0m (390.62 KB)\n"
      ]
     },
     "metadata": {},
     "output_type": "display_data"
    },
    {
     "data": {
      "text/html": [
       "<pre style=\"white-space:pre;overflow-x:auto;line-height:normal;font-family:Menlo,'DejaVu Sans Mono',consolas,'Courier New',monospace\"><span style=\"font-weight: bold\"> Trainable params: </span><span style=\"color: #00af00; text-decoration-color: #00af00\">100,000</span> (390.62 KB)\n",
       "</pre>\n"
      ],
      "text/plain": [
       "\u001b[1m Trainable params: \u001b[0m\u001b[38;5;34m100,000\u001b[0m (390.62 KB)\n"
      ]
     },
     "metadata": {},
     "output_type": "display_data"
    },
    {
     "data": {
      "text/html": [
       "<pre style=\"white-space:pre;overflow-x:auto;line-height:normal;font-family:Menlo,'DejaVu Sans Mono',consolas,'Courier New',monospace\"><span style=\"font-weight: bold\"> Non-trainable params: </span><span style=\"color: #00af00; text-decoration-color: #00af00\">0</span> (0.00 B)\n",
       "</pre>\n"
      ],
      "text/plain": [
       "\u001b[1m Non-trainable params: \u001b[0m\u001b[38;5;34m0\u001b[0m (0.00 B)\n"
      ]
     },
     "metadata": {},
     "output_type": "display_data"
    }
   ],
   "source": [
    "model.summary()"
   ]
  },
  {
   "cell_type": "code",
   "execution_count": 11,
   "metadata": {},
   "outputs": [
    {
     "name": "stdout",
     "output_type": "stream",
     "text": [
      "\u001b[1m1/1\u001b[0m \u001b[32m━━━━━━━━━━━━━━━━━━━━\u001b[0m\u001b[37m\u001b[0m \u001b[1m0s\u001b[0m 39ms/step\n"
     ]
    },
    {
     "data": {
      "text/plain": [
       "array([[[-0.03388937, -0.01803475,  0.03858287,  0.04288492,\n",
       "          0.03026232, -0.00420581,  0.03985855,  0.04949775,\n",
       "          0.0383942 ,  0.01978948],\n",
       "        [-0.03388937, -0.01803475,  0.03858287,  0.04288492,\n",
       "          0.03026232, -0.00420581,  0.03985855,  0.04949775,\n",
       "          0.0383942 ,  0.01978948],\n",
       "        [-0.03388937, -0.01803475,  0.03858287,  0.04288492,\n",
       "          0.03026232, -0.00420581,  0.03985855,  0.04949775,\n",
       "          0.0383942 ,  0.01978948],\n",
       "        [-0.03388937, -0.01803475,  0.03858287,  0.04288492,\n",
       "          0.03026232, -0.00420581,  0.03985855,  0.04949775,\n",
       "          0.0383942 ,  0.01978948],\n",
       "        [ 0.02726725,  0.03267882, -0.02003707,  0.02025248,\n",
       "         -0.03235658,  0.00651802,  0.00171455, -0.02040126,\n",
       "         -0.02552189, -0.04908615],\n",
       "        [ 0.04780677,  0.04932709,  0.00601685,  0.03613336,\n",
       "          0.04412719, -0.00953169,  0.03065005,  0.00558786,\n",
       "          0.01190119,  0.02699934],\n",
       "        [ 0.00529342,  0.00413511,  0.01201955, -0.02491659,\n",
       "          0.00728624, -0.00662329, -0.02331996, -0.04207884,\n",
       "         -0.01340348,  0.00914774],\n",
       "        [-0.03913438, -0.02991056,  0.00041218, -0.02140318,\n",
       "         -0.04266098,  0.00634841, -0.04059414,  0.03757877,\n",
       "          0.03084811,  0.03332288]],\n",
       "\n",
       "       [[-0.03388937, -0.01803475,  0.03858287,  0.04288492,\n",
       "          0.03026232, -0.00420581,  0.03985855,  0.04949775,\n",
       "          0.0383942 ,  0.01978948],\n",
       "        [-0.03388937, -0.01803475,  0.03858287,  0.04288492,\n",
       "          0.03026232, -0.00420581,  0.03985855,  0.04949775,\n",
       "          0.0383942 ,  0.01978948],\n",
       "        [-0.03388937, -0.01803475,  0.03858287,  0.04288492,\n",
       "          0.03026232, -0.00420581,  0.03985855,  0.04949775,\n",
       "          0.0383942 ,  0.01978948],\n",
       "        [-0.03388937, -0.01803475,  0.03858287,  0.04288492,\n",
       "          0.03026232, -0.00420581,  0.03985855,  0.04949775,\n",
       "          0.0383942 ,  0.01978948],\n",
       "        [ 0.02726725,  0.03267882, -0.02003707,  0.02025248,\n",
       "         -0.03235658,  0.00651802,  0.00171455, -0.02040126,\n",
       "         -0.02552189, -0.04908615],\n",
       "        [ 0.04780677,  0.04932709,  0.00601685,  0.03613336,\n",
       "          0.04412719, -0.00953169,  0.03065005,  0.00558786,\n",
       "          0.01190119,  0.02699934],\n",
       "        [ 0.00529342,  0.00413511,  0.01201955, -0.02491659,\n",
       "          0.00728624, -0.00662329, -0.02331996, -0.04207884,\n",
       "         -0.01340348,  0.00914774],\n",
       "        [-0.01015381, -0.00129927,  0.03383936, -0.04949154,\n",
       "          0.0357311 , -0.03834121,  0.01839956,  0.01555833,\n",
       "          0.04100219,  0.02585593]],\n",
       "\n",
       "       [[-0.03388937, -0.01803475,  0.03858287,  0.04288492,\n",
       "          0.03026232, -0.00420581,  0.03985855,  0.04949775,\n",
       "          0.0383942 ,  0.01978948],\n",
       "        [-0.03388937, -0.01803475,  0.03858287,  0.04288492,\n",
       "          0.03026232, -0.00420581,  0.03985855,  0.04949775,\n",
       "          0.0383942 ,  0.01978948],\n",
       "        [-0.03388937, -0.01803475,  0.03858287,  0.04288492,\n",
       "          0.03026232, -0.00420581,  0.03985855,  0.04949775,\n",
       "          0.0383942 ,  0.01978948],\n",
       "        [-0.03388937, -0.01803475,  0.03858287,  0.04288492,\n",
       "          0.03026232, -0.00420581,  0.03985855,  0.04949775,\n",
       "          0.0383942 ,  0.01978948],\n",
       "        [ 0.02726725,  0.03267882, -0.02003707,  0.02025248,\n",
       "         -0.03235658,  0.00651802,  0.00171455, -0.02040126,\n",
       "         -0.02552189, -0.04908615],\n",
       "        [-0.03323089,  0.04683819,  0.01087707,  0.02026608,\n",
       "          0.00905205,  0.04832678, -0.03733106, -0.02285814,\n",
       "         -0.03601705,  0.04913603],\n",
       "        [ 0.00529342,  0.00413511,  0.01201955, -0.02491659,\n",
       "          0.00728624, -0.00662329, -0.02331996, -0.04207884,\n",
       "         -0.01340348,  0.00914774],\n",
       "        [ 0.03512267, -0.04946179,  0.04848443,  0.03198074,\n",
       "         -0.03935743, -0.02957137, -0.03859146, -0.01986107,\n",
       "         -0.02011124, -0.0017274 ]],\n",
       "\n",
       "       [[-0.03388937, -0.01803475,  0.03858287,  0.04288492,\n",
       "          0.03026232, -0.00420581,  0.03985855,  0.04949775,\n",
       "          0.0383942 ,  0.01978948],\n",
       "        [-0.03388937, -0.01803475,  0.03858287,  0.04288492,\n",
       "          0.03026232, -0.00420581,  0.03985855,  0.04949775,\n",
       "          0.0383942 ,  0.01978948],\n",
       "        [-0.03388937, -0.01803475,  0.03858287,  0.04288492,\n",
       "          0.03026232, -0.00420581,  0.03985855,  0.04949775,\n",
       "          0.0383942 ,  0.01978948],\n",
       "        [ 0.03031066, -0.04260945,  0.01254218,  0.03627263,\n",
       "          0.0145083 , -0.02961915, -0.04890751,  0.00866971,\n",
       "         -0.00617284, -0.04632691],\n",
       "        [ 0.03132221,  0.04959333, -0.01260247,  0.03344891,\n",
       "          0.03234598,  0.0368132 ,  0.01709822, -0.04192811,\n",
       "          0.02447635,  0.04182025],\n",
       "        [ 0.01519153,  0.00628314,  0.02458921,  0.02356596,\n",
       "          0.01681471, -0.01233038,  0.00676197,  0.01619479,\n",
       "          0.01803228, -0.0045521 ],\n",
       "        [-0.02117614, -0.04426123, -0.00844334, -0.04702676,\n",
       "         -0.02989556,  0.02375296, -0.04572172, -0.04340965,\n",
       "         -0.02289984,  0.00072068],\n",
       "        [ 0.03456256, -0.00250978,  0.03418673, -0.01757294,\n",
       "          0.00785608,  0.00420481,  0.02169483,  0.00413284,\n",
       "         -0.02867949,  0.00797992]],\n",
       "\n",
       "       [[-0.03388937, -0.01803475,  0.03858287,  0.04288492,\n",
       "          0.03026232, -0.00420581,  0.03985855,  0.04949775,\n",
       "          0.0383942 ,  0.01978948],\n",
       "        [-0.03388937, -0.01803475,  0.03858287,  0.04288492,\n",
       "          0.03026232, -0.00420581,  0.03985855,  0.04949775,\n",
       "          0.0383942 ,  0.01978948],\n",
       "        [-0.03388937, -0.01803475,  0.03858287,  0.04288492,\n",
       "          0.03026232, -0.00420581,  0.03985855,  0.04949775,\n",
       "          0.0383942 ,  0.01978948],\n",
       "        [ 0.03031066, -0.04260945,  0.01254218,  0.03627263,\n",
       "          0.0145083 , -0.02961915, -0.04890751,  0.00866971,\n",
       "         -0.00617284, -0.04632691],\n",
       "        [ 0.03132221,  0.04959333, -0.01260247,  0.03344891,\n",
       "          0.03234598,  0.0368132 ,  0.01709822, -0.04192811,\n",
       "          0.02447635,  0.04182025],\n",
       "        [ 0.01519153,  0.00628314,  0.02458921,  0.02356596,\n",
       "          0.01681471, -0.01233038,  0.00676197,  0.01619479,\n",
       "          0.01803228, -0.0045521 ],\n",
       "        [-0.02117614, -0.04426123, -0.00844334, -0.04702676,\n",
       "         -0.02989556,  0.02375296, -0.04572172, -0.04340965,\n",
       "         -0.02289984,  0.00072068],\n",
       "        [ 0.00692116, -0.00455739, -0.03770272,  0.02688897,\n",
       "         -0.04240582, -0.0380178 , -0.02141038,  0.02541241,\n",
       "          0.02562224, -0.03617068]],\n",
       "\n",
       "       [[-0.03388937, -0.01803475,  0.03858287,  0.04288492,\n",
       "          0.03026232, -0.00420581,  0.03985855,  0.04949775,\n",
       "          0.0383942 ,  0.01978948],\n",
       "        [-0.03388937, -0.01803475,  0.03858287,  0.04288492,\n",
       "          0.03026232, -0.00420581,  0.03985855,  0.04949775,\n",
       "          0.0383942 ,  0.01978948],\n",
       "        [-0.03388937, -0.01803475,  0.03858287,  0.04288492,\n",
       "          0.03026232, -0.00420581,  0.03985855,  0.04949775,\n",
       "          0.0383942 ,  0.01978948],\n",
       "        [-0.02661755,  0.0472475 ,  0.04406745,  0.03401816,\n",
       "          0.01765413, -0.03193548,  0.04554809, -0.03399135,\n",
       "         -0.00233509,  0.00127721],\n",
       "        [ 0.02726725,  0.03267882, -0.02003707,  0.02025248,\n",
       "         -0.03235658,  0.00651802,  0.00171455, -0.02040126,\n",
       "         -0.02552189, -0.04908615],\n",
       "        [ 0.03735608, -0.00582989,  0.03331921,  0.00054983,\n",
       "          0.04993227, -0.02103883, -0.0236107 ,  0.03934469,\n",
       "         -0.04416397,  0.03971526],\n",
       "        [ 0.00529342,  0.00413511,  0.01201955, -0.02491659,\n",
       "          0.00728624, -0.00662329, -0.02331996, -0.04207884,\n",
       "         -0.01340348,  0.00914774],\n",
       "        [-0.0023595 ,  0.04302623,  0.00145272, -0.01196437,\n",
       "         -0.0475209 ,  0.01618372, -0.01372321,  0.03098575,\n",
       "          0.02864735,  0.01522737]],\n",
       "\n",
       "       [[-0.03388937, -0.01803475,  0.03858287,  0.04288492,\n",
       "          0.03026232, -0.00420581,  0.03985855,  0.04949775,\n",
       "          0.0383942 ,  0.01978948],\n",
       "        [-0.03388937, -0.01803475,  0.03858287,  0.04288492,\n",
       "          0.03026232, -0.00420581,  0.03985855,  0.04949775,\n",
       "          0.0383942 ,  0.01978948],\n",
       "        [-0.03388937, -0.01803475,  0.03858287,  0.04288492,\n",
       "          0.03026232, -0.00420581,  0.03985855,  0.04949775,\n",
       "          0.0383942 ,  0.01978948],\n",
       "        [-0.03388937, -0.01803475,  0.03858287,  0.04288492,\n",
       "          0.03026232, -0.00420581,  0.03985855,  0.04949775,\n",
       "          0.0383942 ,  0.01978948],\n",
       "        [-0.00208678, -0.03907556,  0.03272232, -0.02118962,\n",
       "          0.04506899, -0.03737909,  0.00297378,  0.00901695,\n",
       "          0.01624614, -0.01941286],\n",
       "        [-0.02612201, -0.0114543 , -0.02586625,  0.0016503 ,\n",
       "          0.03465616, -0.04060888, -0.02374044,  0.02254342,\n",
       "         -0.02470123,  0.03563989],\n",
       "        [-0.00841152, -0.0302043 ,  0.02860602, -0.03422427,\n",
       "         -0.00518391,  0.03002328, -0.00326475, -0.04342803,\n",
       "         -0.01941468, -0.02161899],\n",
       "        [-0.02117614, -0.04426123, -0.00844334, -0.04702676,\n",
       "         -0.02989556,  0.02375296, -0.04572172, -0.04340965,\n",
       "         -0.02289984,  0.00072068]]], dtype=float32)"
      ]
     },
     "execution_count": 11,
     "metadata": {},
     "output_type": "execute_result"
    }
   ],
   "source": [
    "model.predict(embedded_docs)"
   ]
  },
  {
   "cell_type": "code",
   "execution_count": 12,
   "metadata": {},
   "outputs": [
    {
     "data": {
      "text/plain": [
       "array([   0,    0,    0,    0, 2849, 1996, 7542, 6782], dtype=int32)"
      ]
     },
     "execution_count": 12,
     "metadata": {},
     "output_type": "execute_result"
    }
   ],
   "source": [
    "embedded_docs[0]"
   ]
  },
  {
   "cell_type": "code",
   "execution_count": null,
   "metadata": {},
   "outputs": [],
   "source": []
  },
  {
   "cell_type": "code",
   "execution_count": null,
   "metadata": {},
   "outputs": [],
   "source": []
  }
 ],
 "metadata": {
  "kernelspec": {
   "display_name": "Python 3 (ipykernel)",
   "language": "python",
   "name": "python3"
  },
  "language_info": {
   "codemirror_mode": {
    "name": "ipython",
    "version": 3
   },
   "file_extension": ".py",
   "mimetype": "text/x-python",
   "name": "python",
   "nbconvert_exporter": "python",
   "pygments_lexer": "ipython3",
   "version": "3.11.5"
  }
 },
 "nbformat": 4,
 "nbformat_minor": 2
}
